{
 "cells": [
  {
   "cell_type": "markdown",
   "metadata": {},
   "source": [
    "# Sommaire\n",
    "* [Introduction](#introduction)\n",
    "* [API](#api)\n",
    "* [Conclusion](#conclusion)"
   ]
  },
  {
   "cell_type": "markdown",
   "metadata": {},
   "source": [
    "# Introduction <a class=\"anchor\" id=\"introduction\"></a>\n",
    "La marketplace e-commerce de Place de marché souhaite élargir sa gamme de produits à l'épicerie fine. Ainsi, j'ai été chargé d'extraire 10 produits à base de champagne via l'API [Edamam](https://api.edamam.com/). L'exécution de ce notebook en enregistrera les données *foodId, label, category, foodContentsLabel et image* dans un fichier \".csv\"."
   ]
  },
  {
   "cell_type": "markdown",
   "metadata": {},
   "source": [
    "# API <a class=\"anchor\" id=\"api\"></a>\n",
    "Je suis passé par [Rapid API](https://rapidapi.com/hub) plutôt que le site officiel d'Edamam, car cela m'a permis d'obtenir une clé API sans avoir à utiliser ma carte de crédit.\n",
    "\n",
    "Je me suis en suite appuyé sur [l'API spec](https://api.edamam.com/doc/open-api/food-db-v2.yaml), pour me documenter sur les endpoints, paramètres et réponses de l'API.\n",
    "\n",
    "On commence par installer la librairie nécessaire."
   ]
  },
  {
   "cell_type": "code",
   "execution_count": 1,
   "metadata": {},
   "outputs": [
    {
     "name": "stdout",
     "output_type": "stream",
     "text": [
      "Defaulting to user installation because normal site-packages is not writeable\n",
      "Requirement already satisfied: requests in c:\\users\\qveynacther\\appdata\\roaming\\python\\python312\\site-packages (2.31.0)\n",
      "Requirement already satisfied: charset-normalizer<4,>=2 in c:\\users\\qveynacther\\appdata\\roaming\\python\\python312\\site-packages (from requests) (3.3.2)\n",
      "Requirement already satisfied: idna<4,>=2.5 in c:\\users\\qveynacther\\appdata\\roaming\\python\\python312\\site-packages (from requests) (3.6)\n",
      "Requirement already satisfied: urllib3<3,>=1.21.1 in c:\\users\\qveynacther\\appdata\\roaming\\python\\python312\\site-packages (from requests) (2.1.0)\n",
      "Requirement already satisfied: certifi>=2017.4.17 in c:\\users\\qveynacther\\appdata\\roaming\\python\\python312\\site-packages (from requests) (2023.11.17)\n",
      "Note: you may need to restart the kernel to use updated packages.\n"
     ]
    },
    {
     "name": "stderr",
     "output_type": "stream",
     "text": [
      "\n",
      "[notice] A new release of pip is available: 24.1.2 -> 24.2\n",
      "[notice] To update, run: python.exe -m pip install --upgrade pip\n"
     ]
    }
   ],
   "source": [
    "pip install requests"
   ]
  },
  {
   "cell_type": "code",
   "execution_count": 5,
   "metadata": {},
   "outputs": [
    {
     "name": "stdout",
     "output_type": "stream",
     "text": [
      "Statut de la réponse : 200\n"
     ]
    }
   ],
   "source": [
    "#On obtient les données liées spécifiquement au champagne\n",
    "import requests\n",
    "\n",
    "#Clé API et hôte de Rapid API\n",
    "api_key = '152513fa2emsh367537cf4829c57p1eddcejsn446965994d74'\n",
    "url = 'https://edamam-food-and-grocery-database.p.rapidapi.com/api/food-database/v2/parser'\n",
    "\n",
    "#En-tête de requête\n",
    "headers = {'X-RapidAPI-Key': api_key,\n",
    "           'X-RapidAPI-Host': 'edamam-food-and-grocery-database.p.rapidapi.com'}\n",
    "\n",
    "#Paramètres de requête ('ingr' pour 'ingrédient')\n",
    "params = {'ingr': 'champagne'}\n",
    "\n",
    "#Requête vers l'API\n",
    "response = requests.get(url, headers=headers, params=params)\n",
    "print(f\"Statut de la réponse : {response.status_code}\") #Renvoie 200 pour un succès"
   ]
  },
  {
   "cell_type": "code",
   "execution_count": 6,
   "metadata": {},
   "outputs": [],
   "source": [
    "#Puis on filtre avant d'exporter au format \".csv\"\n",
    "import csv\n",
    "\n",
    "#Les 10 premiers produits\n",
    "produits = response.json().get('hints', [])[:10]\n",
    "\n",
    "#Les champs\n",
    "keys = ['foodId', 'label', 'category', 'foodContentsLabel', 'image']\n",
    "\n",
    "#Création du \".csv\"\n",
    "with open('champagne.csv', mode='w', newline='', encoding='utf-8') as csvfile:\n",
    "    writer = csv.writer(csvfile)\n",
    "    writer.writerow(keys) #Les en-têtes\n",
    "\n",
    "    for produit in produits:\n",
    "        food = produit.get('food', {})\n",
    "        writer.writerow([food.get(key) for key in keys]) #Les valeurs"
   ]
  },
  {
   "cell_type": "code",
   "execution_count": 7,
   "metadata": {},
   "outputs": [
    {
     "data": {
      "text/html": [
       "<div>\n",
       "<style scoped>\n",
       "    .dataframe tbody tr th:only-of-type {\n",
       "        vertical-align: middle;\n",
       "    }\n",
       "\n",
       "    .dataframe tbody tr th {\n",
       "        vertical-align: top;\n",
       "    }\n",
       "\n",
       "    .dataframe thead th {\n",
       "        text-align: right;\n",
       "    }\n",
       "</style>\n",
       "<table border=\"1\" class=\"dataframe\">\n",
       "  <thead>\n",
       "    <tr style=\"text-align: right;\">\n",
       "      <th></th>\n",
       "      <th>foodId</th>\n",
       "      <th>label</th>\n",
       "      <th>category</th>\n",
       "      <th>foodContentsLabel</th>\n",
       "      <th>image</th>\n",
       "    </tr>\n",
       "  </thead>\n",
       "  <tbody>\n",
       "    <tr>\n",
       "      <th>0</th>\n",
       "      <td>food_a656mk2a5dmqb2adiamu6beihduu</td>\n",
       "      <td>Champagne</td>\n",
       "      <td>Generic foods</td>\n",
       "      <td>NaN</td>\n",
       "      <td>https://www.edamam.com/food-img/a71/a718cf3c52...</td>\n",
       "    </tr>\n",
       "    <tr>\n",
       "      <th>1</th>\n",
       "      <td>food_b753ithamdb8psbt0w2k9aquo06c</td>\n",
       "      <td>Champagne Vinaigrette, Champagne</td>\n",
       "      <td>Packaged foods</td>\n",
       "      <td>OLIVE OIL; BALSAMIC VINEGAR; CHAMPAGNE VINEGAR...</td>\n",
       "      <td>NaN</td>\n",
       "    </tr>\n",
       "    <tr>\n",
       "      <th>2</th>\n",
       "      <td>food_b3dyababjo54xobm6r8jzbghjgqe</td>\n",
       "      <td>Champagne Vinaigrette, Champagne</td>\n",
       "      <td>Packaged foods</td>\n",
       "      <td>INGREDIENTS: WATER; CANOLA OIL; CHAMPAGNE VINE...</td>\n",
       "      <td>https://www.edamam.com/food-img/d88/d88b64d973...</td>\n",
       "    </tr>\n",
       "    <tr>\n",
       "      <th>3</th>\n",
       "      <td>food_a9e0ghsamvoc45bwa2ybsa3gken9</td>\n",
       "      <td>Champagne Vinaigrette, Champagne</td>\n",
       "      <td>Packaged foods</td>\n",
       "      <td>CANOLA AND SOYBEAN OIL; WHITE WINE (CONTAINS S...</td>\n",
       "      <td>NaN</td>\n",
       "    </tr>\n",
       "    <tr>\n",
       "      <th>4</th>\n",
       "      <td>food_an4jjueaucpus2a3u1ni8auhe7q9</td>\n",
       "      <td>Champagne Vinaigrette, Champagne</td>\n",
       "      <td>Packaged foods</td>\n",
       "      <td>WATER; CANOLA AND SOYBEAN OIL; WHITE WINE (CON...</td>\n",
       "      <td>NaN</td>\n",
       "    </tr>\n",
       "    <tr>\n",
       "      <th>5</th>\n",
       "      <td>food_bmu5dmkazwuvpaa5prh1daa8jxs0</td>\n",
       "      <td>Champagne Dressing, Champagne</td>\n",
       "      <td>Packaged foods</td>\n",
       "      <td>SOYBEAN OIL; WHITE WINE (PRESERVED WITH SULFIT...</td>\n",
       "      <td>https://www.edamam.com/food-img/ab2/ab2459fc2a...</td>\n",
       "    </tr>\n",
       "    <tr>\n",
       "      <th>6</th>\n",
       "      <td>food_alpl44taoyv11ra0lic1qa8xculi</td>\n",
       "      <td>Champagne Buttercream</td>\n",
       "      <td>Generic meals</td>\n",
       "      <td>sugar; butter; shortening; vanilla; champagne;...</td>\n",
       "      <td>NaN</td>\n",
       "    </tr>\n",
       "    <tr>\n",
       "      <th>7</th>\n",
       "      <td>food_am5egz6aq3fpjlaf8xpkdbc2asis</td>\n",
       "      <td>Champagne Truffles</td>\n",
       "      <td>Generic meals</td>\n",
       "      <td>butter; cocoa; sweetened condensed milk; vanil...</td>\n",
       "      <td>NaN</td>\n",
       "    </tr>\n",
       "    <tr>\n",
       "      <th>8</th>\n",
       "      <td>food_bcz8rhiajk1fuva0vkfmeakbouc0</td>\n",
       "      <td>Champagne Vinaigrette</td>\n",
       "      <td>Generic meals</td>\n",
       "      <td>champagne vinegar; olive oil; Dijon mustard; s...</td>\n",
       "      <td>NaN</td>\n",
       "    </tr>\n",
       "    <tr>\n",
       "      <th>9</th>\n",
       "      <td>food_a79xmnya6togreaeukbroa0thhh0</td>\n",
       "      <td>Champagne Chicken</td>\n",
       "      <td>Generic meals</td>\n",
       "      <td>Flour; Salt; Pepper; Boneless, Skinless Chicke...</td>\n",
       "      <td>NaN</td>\n",
       "    </tr>\n",
       "  </tbody>\n",
       "</table>\n",
       "</div>"
      ],
      "text/plain": [
       "                              foodId                             label  \\\n",
       "0  food_a656mk2a5dmqb2adiamu6beihduu                         Champagne   \n",
       "1  food_b753ithamdb8psbt0w2k9aquo06c  Champagne Vinaigrette, Champagne   \n",
       "2  food_b3dyababjo54xobm6r8jzbghjgqe  Champagne Vinaigrette, Champagne   \n",
       "3  food_a9e0ghsamvoc45bwa2ybsa3gken9  Champagne Vinaigrette, Champagne   \n",
       "4  food_an4jjueaucpus2a3u1ni8auhe7q9  Champagne Vinaigrette, Champagne   \n",
       "5  food_bmu5dmkazwuvpaa5prh1daa8jxs0     Champagne Dressing, Champagne   \n",
       "6  food_alpl44taoyv11ra0lic1qa8xculi             Champagne Buttercream   \n",
       "7  food_am5egz6aq3fpjlaf8xpkdbc2asis                Champagne Truffles   \n",
       "8  food_bcz8rhiajk1fuva0vkfmeakbouc0             Champagne Vinaigrette   \n",
       "9  food_a79xmnya6togreaeukbroa0thhh0                 Champagne Chicken   \n",
       "\n",
       "         category                                  foodContentsLabel  \\\n",
       "0   Generic foods                                                NaN   \n",
       "1  Packaged foods  OLIVE OIL; BALSAMIC VINEGAR; CHAMPAGNE VINEGAR...   \n",
       "2  Packaged foods  INGREDIENTS: WATER; CANOLA OIL; CHAMPAGNE VINE...   \n",
       "3  Packaged foods  CANOLA AND SOYBEAN OIL; WHITE WINE (CONTAINS S...   \n",
       "4  Packaged foods  WATER; CANOLA AND SOYBEAN OIL; WHITE WINE (CON...   \n",
       "5  Packaged foods  SOYBEAN OIL; WHITE WINE (PRESERVED WITH SULFIT...   \n",
       "6   Generic meals  sugar; butter; shortening; vanilla; champagne;...   \n",
       "7   Generic meals  butter; cocoa; sweetened condensed milk; vanil...   \n",
       "8   Generic meals  champagne vinegar; olive oil; Dijon mustard; s...   \n",
       "9   Generic meals  Flour; Salt; Pepper; Boneless, Skinless Chicke...   \n",
       "\n",
       "                                               image  \n",
       "0  https://www.edamam.com/food-img/a71/a718cf3c52...  \n",
       "1                                                NaN  \n",
       "2  https://www.edamam.com/food-img/d88/d88b64d973...  \n",
       "3                                                NaN  \n",
       "4                                                NaN  \n",
       "5  https://www.edamam.com/food-img/ab2/ab2459fc2a...  \n",
       "6                                                NaN  \n",
       "7                                                NaN  \n",
       "8                                                NaN  \n",
       "9                                                NaN  "
      ]
     },
     "execution_count": 7,
     "metadata": {},
     "output_type": "execute_result"
    }
   ],
   "source": [
    "#On importe pour voir à quoi ça ressemble\n",
    "import pandas as pd\n",
    "\n",
    "df = pd.read_csv('champagne.csv')\n",
    "df"
   ]
  },
  {
   "cell_type": "markdown",
   "metadata": {},
   "source": [
    "# Conclusion <a class=\"anchor\" id=\"conclusion\"></a>\n",
    "Nous avons bien exporté 10 produits à base de champagne, et seuls les champs sélectionnés sont présents. Par rapport au notebook précédent, on constate que seulement 3 produits sur la sélection ont des images associées."
   ]
  }
 ],
 "metadata": {
  "kernelspec": {
   "display_name": "Python 3",
   "language": "python",
   "name": "python3"
  },
  "language_info": {
   "codemirror_mode": {
    "name": "ipython",
    "version": 3
   },
   "file_extension": ".py",
   "mimetype": "text/x-python",
   "name": "python",
   "nbconvert_exporter": "python",
   "pygments_lexer": "ipython3",
   "version": "3.12.1"
  }
 },
 "nbformat": 4,
 "nbformat_minor": 2
}
